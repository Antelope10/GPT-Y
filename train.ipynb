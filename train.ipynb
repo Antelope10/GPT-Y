{
  "cells": [
    {
      "cell_type": "code",
      "execution_count": 42,
      "metadata": {
        "id": "IvsIuwaraVSv"
      },
      "outputs": [],
      "source": [
        "with open('train.txt', 'r', encoding='utf-8') as f:\n",
        "    text = f.read()"
      ]
    },
    {
      "cell_type": "code",
      "execution_count": 43,
      "metadata": {
        "colab": {
          "base_uri": "https://localhost:8080/"
        },
        "id": "6aOo-EYvaVS_",
        "outputId": "5017c3b5-e2cc-4a79-9877-dab135375194"
      },
      "outputs": [
        {
          "output_type": "stream",
          "name": "stdout",
          "text": [
            "\n",
            "\f !\"'()*,-./0123456789:;?ABCDEFGHIJKLMNOPQRSTUVWYZ[]abcdefghijklmnopqrstuvwxyz«—‘’“”♦\n",
            "86\n"
          ]
        }
      ],
      "source": [
        "chars = sorted(list(set(text)))\n",
        "vocab_size = len(chars)\n",
        "print(''.join(chars))\n",
        "print(vocab_size)"
      ]
    },
    {
      "cell_type": "code",
      "execution_count": 44,
      "metadata": {
        "id": "_nEd7Tx1aVTH"
      },
      "outputs": [],
      "source": [
        "stoi = { ch:i for i,ch in enumerate(chars) }\n",
        "itos = {i:ch for i,ch in enumerate(chars)}\n",
        "encode = lambda s: [stoi[c] for c in s]\n",
        "decode = lambda l: ''.join([itos[i] for i in l])"
      ]
    },
    {
      "cell_type": "code",
      "execution_count": 45,
      "metadata": {
        "colab": {
          "base_uri": "https://localhost:8080/"
        },
        "id": "5Hfivt0WaVTL",
        "outputId": "5618af48-19e5-4110-ed3c-db5b95604823"
      },
      "outputs": [
        {
          "output_type": "stream",
          "name": "stdout",
          "text": [
            "torch.Size([507984])\n",
            "tensor([45, 60, 57,  ..., 11,  2,  0])\n"
          ]
        }
      ],
      "source": [
        "import torch\n",
        "data = torch.tensor(encode(text),dtype=torch.long)\n",
        "print(data.shape)\n",
        "print(data)"
      ]
    },
    {
      "cell_type": "code",
      "execution_count": 46,
      "metadata": {
        "id": "5pS_9tZ8aVTQ"
      },
      "outputs": [],
      "source": [
        "n = int(.9*len(data))\n",
        "train_data = data[:n]\n",
        "test_data = data[n:]"
      ]
    },
    {
      "cell_type": "code",
      "execution_count": 47,
      "metadata": {
        "colab": {
          "base_uri": "https://localhost:8080/"
        },
        "id": "jpyZ-rWaaVTS",
        "outputId": "5af60c89-4e7a-4e8f-8505-c7a6db3c1205"
      },
      "outputs": [
        {
          "output_type": "execute_result",
          "data": {
            "text/plain": [
              "tensor([45, 60, 57,  2, 38, 77, 72, 60,  2])"
            ]
          },
          "metadata": {},
          "execution_count": 47
        }
      ],
      "source": [
        "block_size = 8\n",
        "train_data[:block_size+1]"
      ]
    },
    {
      "cell_type": "code",
      "execution_count": 48,
      "metadata": {
        "colab": {
          "base_uri": "https://localhost:8080/"
        },
        "id": "2v7CjN1zaVTY",
        "outputId": "74f46262-2017-4869-a180-4cf7c400c39e"
      },
      "outputs": [
        {
          "output_type": "stream",
          "name": "stdout",
          "text": [
            "tensor([[71, 73, 70, 57,  9,  2, 72, 60],\n",
            "        [67, 73, 66, 59,  2, 65, 53, 66],\n",
            "        [53, 66, 56,  2, 59, 61, 59, 59],\n",
            "        [66, 53, 64,  0, 43, 57, 53, 71]])\n",
            "tensor([[73, 70, 57,  9,  2, 72, 60, 61],\n",
            "        [73, 66, 59,  2, 65, 53, 66,  9],\n",
            "        [66, 56,  2, 59, 61, 59, 59, 64],\n",
            "        [53, 64,  0, 43, 57, 53, 71, 67]])\n"
          ]
        }
      ],
      "source": [
        "torch.manual_seed(1337)\n",
        "batch_size = 4\n",
        "block_size = 8\n",
        "embedding_size = 512\n",
        "\n",
        "def get_batch(split):\n",
        "    data = train_data if split == 'train' else test_data\n",
        "    ix = torch.randint(len(data) - block_size, (batch_size,))\n",
        "    x = torch.stack([data[i:i+block_size] for i in ix])\n",
        "    y = torch.stack([data[i+1:i+block_size+1] for i in ix])\n",
        "    return x,y\n",
        "\n",
        "xb,yb = get_batch('train')\n",
        "print(xb)\n",
        "print(yb)  "
      ]
    },
    {
      "cell_type": "code",
      "source": [
        "import torch\n",
        "import torch.nn as nn\n",
        "from torch.nn import functional as F\n",
        "torch.manual_seed(1337)\n",
        "\n",
        "class BigramLanguageModel(nn.Module):\n",
        "  \n",
        "  def __init__(self, vocab_size):\n",
        "    super().__init__()\n",
        "    self.token_embedding_table = nn.Embedding(vocab_size,vocab_size)\n",
        "\n",
        "  def forward(self, idx, targets=None):\n",
        "    logits = self.token_embedding_table(idx)\n",
        "    B,T,C = logits.shape\n",
        "    logits = logits.view(B*T,C)\n",
        "    \n",
        "    loss = None\n",
        "    if targets is not None:\n",
        "      targets = targets.view(B*T)\n",
        "      loss = F.cross_entropy(logits,targets)\n",
        "\n",
        "    logits = logits.view(B,T,C)\n",
        "    return logits, loss\n",
        "\n",
        "  def generate(self,idx,max_new_tokens):\n",
        "    for _ in range(max_new_tokens):\n",
        "      logits, loss = self(idx)\n",
        "      logits = logits[:,-1,:]\n",
        "      probs = F.softmax(logits,dim=-1)\n",
        "      idx_next = torch.multinomial(probs,num_samples=1).view(1,1)\n",
        "      idx = torch.cat((idx,idx_next),dim=1)\n",
        "    return idx\n",
        "\n",
        "m = BigramLanguageModel(vocab_size)\n",
        "logits, loss = m(xb,yb)\n",
        "print(logits.shape)\n",
        "print(loss)\n",
        "\n",
        "idx = torch.zeros((1,1),dtype=torch.long)\n",
        "print(decode(m.generate(idx,max_new_tokens=100)[0].tolist()))"
      ],
      "metadata": {
        "colab": {
          "base_uri": "https://localhost:8080/"
        },
        "id": "bDPgOn3Jabhi",
        "outputId": "ce6d8fd3-a628-4780-cc07-3580239026fb"
      },
      "execution_count": 49,
      "outputs": [
        {
          "output_type": "stream",
          "name": "stdout",
          "text": [
            "torch.Size([4, 8, 86])\n",
            "tensor(5.0275, grad_fn=<NllLossBackward0>)\n",
            "\n",
            "I3LEtQU‘—w\"KBiqL\n",
            ":whPRk(3y“y\ftrfqMQrh”wV8\n",
            "b8(ul[DEVDyruM”“g ”\fiv?83:NB‘?m8]Q1P,kt“CW)Ln♦?DPDKa/SO♦DW\n"
          ]
        }
      ]
    },
    {
      "cell_type": "code",
      "source": [
        "optimizer = torch.optim.AdamW(m.parameters(), lr=1e-3)"
      ],
      "metadata": {
        "id": "XL97LSRA7rTB"
      },
      "execution_count": 50,
      "outputs": []
    },
    {
      "cell_type": "code",
      "source": [
        "batch_size = 32\n",
        "for steps in range(1000):\n",
        "  xb,yb = get_batch('train')\n",
        "\n",
        "  logits, loss = m(xb,yb)\n",
        "  optimizer.zero_grad(set_to_none=True)\n",
        "  loss.backward()\n",
        "  optimizer.step()\n",
        "print(loss.item())\n"
      ],
      "metadata": {
        "colab": {
          "base_uri": "https://localhost:8080/"
        },
        "id": "XHjFnbSsDsau",
        "outputId": "39d43a00-83b4-4776-c871-d69c0a216e69"
      },
      "execution_count": 53,
      "outputs": [
        {
          "output_type": "stream",
          "name": "stdout",
          "text": [
            "2.5274322032928467\n"
          ]
        }
      ]
    },
    {
      "cell_type": "code",
      "source": [
        "print(decode(m.generate(idx,max_new_tokens=100)[0].tolist()))"
      ],
      "metadata": {
        "colab": {
          "base_uri": "https://localhost:8080/"
        },
        "id": "fCeiOiKaFF2T",
        "outputId": "61edc3b7-6751-4524-bc7a-7d0241293223"
      },
      "execution_count": 54,
      "outputs": [
        {
          "output_type": "stream",
          "name": "stdout",
          "text": [
            "\n",
            "The ctanot's ithitigeritit Cheathendo d we Thed I isu it e, ond.\n",
            "in whe Preb-y cama nhesulfisheistxa\n"
          ]
        }
      ]
    }
  ],
  "metadata": {
    "kernelspec": {
      "display_name": "Python 3",
      "language": "python",
      "name": "python3"
    },
    "language_info": {
      "codemirror_mode": {
        "name": "ipython",
        "version": 3
      },
      "file_extension": ".py",
      "mimetype": "text/x-python",
      "name": "python",
      "nbconvert_exporter": "python",
      "pygments_lexer": "ipython3",
      "version": "3.10.6"
    },
    "orig_nbformat": 4,
    "colab": {
      "provenance": []
    },
    "accelerator": "GPU",
    "gpuClass": "standard"
  },
  "nbformat": 4,
  "nbformat_minor": 0
}